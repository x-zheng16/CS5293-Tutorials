{
 "cells": [
  {
   "cell_type": "markdown",
   "metadata": {},
   "source": [
    "# Understanding Different Modes of Block Cipher \n",
    "\n",
    "Consider two messages, each of which owns n blocks: $M_1 = m_1||m_2||...||m_n$ and $M_2 = m'_1||m_2||...||m_n$, where $M_1$ and $M_2$ differ only in the first block. For instance, \n",
    "\n",
    "$M_1$ = \"11335577 is my student ID. We will encrypt the message with different ways.\"  \n",
    "$M_2$ = \"22446688 is my student ID. We will encrypt the message with different ways.\"\n",
    "\n",
    "Which of the following statements hold? Assume the same key is used for all encryption.\n",
    "\n",
    "1) If $M_1$ and $M_2$ are encrypted using `Electronic Code Book (ECB)`, none of the cipher text blocks will repeat between each message.\n",
    "2) If $M_1$ and $M_2$ are encrypted using `Cipher Block Chaining (CBC)`, but the same Initialization Vector (IV) is used for encrypting both messages, none of the cipher text blocks will repeat between each message."
   ]
  },
  {
   "cell_type": "code",
   "execution_count": null,
   "metadata": {},
   "outputs": [],
   "source": [
    "M1 = b\"11335577 is my student ID. We will encrypt the message in different ways.\"\n",
    "M2 = b\"22446688 is my student ID. We will encrypt the message in different ways.\""
   ]
  },
  {
   "cell_type": "code",
   "execution_count": null,
   "metadata": {},
   "outputs": [],
   "source": [
    "!python -m pip install cryptography"
   ]
  },
  {
   "cell_type": "markdown",
   "metadata": {},
   "source": [
    "## Available modes in OpenSSL\n",
    "\n",
    "aes-[128|192|256]-cbc  128/192/256 bit AES in CBC mode  \n",
    "aes[128|192|256]       Alias for aes-[128|192|256]-cbc  \n",
    "aes-[128|192|256]-cfb  128/192/256 bit AES in 128 bit CFB mode  \n",
    "aes-[128|192|256]-cfb1 128/192/256 bit AES in 1 bit CFB mode  \n",
    "aes-[128|192|256]-cfb8 128/192/256 bit AES in 8 bit CFB mode  \n",
    "aes-[128|192|256]-ctr  128/192/256 bit AES in CTR mode  \n",
    "aes-[128|192|256]-ecb  128/192/256 bit AES in ECB mode  \n",
    "aes-[128|192|256]-ofb  128/192/256 bit AES in OFB mode"
   ]
  },
  {
   "cell_type": "code",
   "execution_count": null,
   "metadata": {},
   "outputs": [],
   "source": [
    "from cryptography.hazmat.primitives.ciphers import Cipher, algorithms, modes\n",
    "from cryptography.hazmat.primitives.padding import PKCS7"
   ]
  },
  {
   "cell_type": "code",
   "execution_count": null,
   "metadata": {},
   "outputs": [],
   "source": [
    "import random\n",
    "\n",
    "SEED = 0\n",
    "BLOCK_SIZE = 128\n",
    "\n",
    "# seed\n",
    "random.seed(0)\n",
    "\n",
    "# generate random key and iv\n",
    "KEY = bytes(random.randrange(256) for _ in range(BLOCK_SIZE // 8))\n",
    "IV = bytes(random.randrange(256) for _ in range(BLOCK_SIZE // 8))\n",
    "print(KEY.hex(), IV.hex())"
   ]
  },
  {
   "cell_type": "code",
   "execution_count": null,
   "metadata": {},
   "outputs": [],
   "source": [
    "# create padder that required by ECB and CBC modes, https://cryptography.io/en/latest/hazmat/primitives/symmetric-encryption/\n",
    "padder, unpadder = PKCS7(BLOCK_SIZE).padder(), PKCS7(BLOCK_SIZE).unpadder()\n",
    "padded_data = padder.update(M1) + padder.finalize()\n",
    "print(padded_data)\n",
    "print(unpadder.update(padded_data) + unpadder.finalize())\n",
    "\n",
    "padder, unpadder = PKCS7(BLOCK_SIZE).padder(), PKCS7(BLOCK_SIZE).unpadder()\n",
    "padded_data = padder.update(M2) + padder.finalize()\n",
    "print(padded_data)\n",
    "print(unpadder.update(padded_data) + unpadder.finalize())"
   ]
  },
  {
   "cell_type": "code",
   "execution_count": null,
   "metadata": {},
   "outputs": [],
   "source": [
    "def encrypt_then_decrypt(plaintext, mode=modes.ECB()):\n",
    "    cipher = Cipher(algorithms.AES(KEY), mode)\n",
    "    encryptor, decryptor = cipher.encryptor(), cipher.decryptor()\n",
    "    padder, unpadder = PKCS7(128).padder(), PKCS7(128).unpadder()\n",
    "\n",
    "    # encrypt\n",
    "    if len(plaintext) % 16 != 0:\n",
    "        padded_data = padder.update(plaintext) + padder.finalize()\n",
    "    else:\n",
    "        padded_data = plaintext\n",
    "\n",
    "    ciphered_data = encryptor.update(padded_data) + encryptor.finalize()\n",
    "\n",
    "    # decrypt\n",
    "    decipered_data = decryptor.update(ciphered_data) + decryptor.finalize()\n",
    "    if len(plaintext) % 16 != 0:\n",
    "        unpadded_data = unpadder.update(decipered_data) + unpadder.finalize()\n",
    "        assert plaintext == unpadded_data\n",
    "\n",
    "    return ciphered_data"
   ]
  },
  {
   "cell_type": "code",
   "execution_count": null,
   "metadata": {},
   "outputs": [],
   "source": [
    "import textwrap\n",
    "\n",
    "color2num = dict(\n",
    "    gray=30,\n",
    "    red=31,\n",
    "    green=32,\n",
    "    yellow=33,\n",
    "    blue=34,\n",
    "    magenta=35,\n",
    "    cyan=36,\n",
    "    white=37,\n",
    "    crimson=38,\n",
    ")\n",
    "\n",
    "def colorize(string, color, bold=True, highlight=False):\n",
    "    \"\"\"\n",
    "    Colorize a string.\n",
    "\n",
    "    This function was originally written by John Schulman.\n",
    "    \"\"\"\n",
    "    attr = []\n",
    "    num = color2num[color]\n",
    "    if highlight:\n",
    "        num += 10\n",
    "    attr.append(str(num))\n",
    "    if bold:\n",
    "        attr.append(\"1\")\n",
    "    return \"\\x1b[%sm%s\\x1b[0m\" % (\";\".join(attr), string)\n",
    "\n",
    "def visual_hex_diff(bstr_1, bstr_2, hex_names=(\"HEX 1\", \"HEX 2\")):\n",
    "    SEP = \"   |   \"\n",
    "    print(\"  \", f\"{hex_names[0]}\".ljust(16 + 7), hex_names[1], sep=SEP)\n",
    "    # block level\n",
    "    hex_1, hex_2 = textwrap.wrap(bstr_1.hex(), 16), textwrap.wrap(bstr_2.hex(), 16)\n",
    "    for i, (block_1, block_2) in enumerate(zip(hex_1, hex_2)):\n",
    "        # byte level\n",
    "        block_1, block_2 = textwrap.wrap(block_1, 2), textwrap.wrap(block_2, 2)\n",
    "        block_2 = [colorize(v2, \"red\" if v1 != v2 else \"green\") for v1, v2 in zip(block_1, block_2)]\n",
    "        print(str(i).rjust(2), \" \".join(block_1).ljust(16 + 7), \" \".join(block_2).ljust( 16 + 7), sep=SEP)"
   ]
  },
  {
   "cell_type": "code",
   "execution_count": null,
   "metadata": {},
   "outputs": [],
   "source": [
    "ciphered_M1 = encrypt_then_decrypt(M1, modes.ECB())\n",
    "ciphered_M2 = encrypt_then_decrypt(M2, modes.ECB())\n",
    "visual_hex_diff(ciphered_M1, ciphered_M2, [\"deciphered M1\", \"deciphered M2\"])"
   ]
  },
  {
   "cell_type": "code",
   "execution_count": null,
   "metadata": {},
   "outputs": [],
   "source": [
    "ciphered_M1 = encrypt_then_decrypt(M1, modes.CBC(IV))\n",
    "ciphered_M2 = encrypt_then_decrypt(M2, modes.CBC(IV))\n",
    "visual_hex_diff(ciphered_M1, ciphered_M2, [\"deciphered M1\", \"deciphered M2\"])"
   ]
  }
 ],
 "metadata": {
  "kernelspec": {
   "display_name": "llm",
   "language": "python",
   "name": "python3"
  },
  "language_info": {
   "codemirror_mode": {
    "name": "ipython",
    "version": 3
   },
   "file_extension": ".py",
   "mimetype": "text/x-python",
   "name": "python",
   "nbconvert_exporter": "python",
   "pygments_lexer": "ipython3",
   "version": "3.10.13"
  }
 },
 "nbformat": 4,
 "nbformat_minor": 2
}
