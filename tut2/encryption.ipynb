{
 "cells": [
  {
   "cell_type": "markdown",
   "metadata": {},
   "source": [
    "## Understanding ECB and CBC\n",
    "\n",
    "Consider two messages, each of which owns n blocks: $M_1 = m_1||m_2||...||m_n$ and $M_2 = m'_1||m_2||...||m_n$, where $M_1$ and $M_2$ differ only in the first block. For instance, \n",
    "\n",
    "$M_1$ = \"11335577 is my student ID. We will encrypt the message with different ways.\"  \n",
    "$M_2$ = \"22446688 is my student ID. We will encrypt the message with different ways.\"\n",
    "\n",
    "Which of the following statements hold? Assume the same key is used for all encryption.\n",
    "\n",
    "1) If $M_1$ and $M_2$ are encrypted using `Electronic Code Book (ECB)`, none of the cipher text blocks will repeat between each message.\n",
    "2) If $M_1$ and $M_2$ are encrypted using `Cipher Block Chaining (CBC)`, but the same Initialization Vector (IV) is used for encrypting both messages, none of the cipher text blocks will repeat between each message."
   ]
  },
  {
   "cell_type": "code",
   "execution_count": 1,
   "metadata": {},
   "outputs": [],
   "source": [
    "M1 = b\"11335577 is my student ID. We will encrypt the message in different ways.\"\n",
    "M2 = b\"22446688 is my student ID. We will encrypt the message in different ways.\""
   ]
  },
  {
   "cell_type": "code",
   "execution_count": 2,
   "metadata": {},
   "outputs": [
    {
     "name": "stdout",
     "output_type": "stream",
     "text": [
      "Looking in indexes: https://pypi.tuna.tsinghua.edu.cn/simple\n",
      "Requirement already satisfied: cryptography in /Users/xsy/miniconda3/envs/llm/lib/python3.10/site-packages (42.0.0)\n",
      "Requirement already satisfied: cffi>=1.12 in /Users/xsy/miniconda3/envs/llm/lib/python3.10/site-packages (from cryptography) (1.16.0)\n",
      "Requirement already satisfied: pycparser in /Users/xsy/miniconda3/envs/llm/lib/python3.10/site-packages (from cffi>=1.12->cryptography) (2.21)\n"
     ]
    }
   ],
   "source": [
    "!python -m pip install cryptography"
   ]
  },
  {
   "cell_type": "markdown",
   "metadata": {},
   "source": [
    "## Available modes in OpenSSL\n",
    "\n",
    "aes-[128|192|256]-cbc  128/192/256 bit AES in CBC mode  \n",
    "aes[128|192|256]       Alias for aes-[128|192|256]-cbc  \n",
    "aes-[128|192|256]-cfb  128/192/256 bit AES in 128 bit CFB mode  \n",
    "aes-[128|192|256]-cfb1 128/192/256 bit AES in 1 bit CFB mode  \n",
    "aes-[128|192|256]-cfb8 128/192/256 bit AES in 8 bit CFB mode  \n",
    "aes-[128|192|256]-ctr  128/192/256 bit AES in CTR mode  \n",
    "aes-[128|192|256]-ecb  128/192/256 bit AES in ECB mode  \n",
    "aes-[128|192|256]-ofb  128/192/256 bit AES in OFB mode"
   ]
  },
  {
   "cell_type": "code",
   "execution_count": 3,
   "metadata": {},
   "outputs": [
    {
     "name": "stdout",
     "output_type": "stream",
     "text": [
      "c5d71484f8cf9bf4b76f47904730804b 9e3225a9f133b5dea168f4e2851f072f\n"
     ]
    }
   ],
   "source": [
    "import random\n",
    "import textwrap\n",
    "\n",
    "from cryptography.hazmat.primitives.ciphers import Cipher, algorithms, modes\n",
    "from cryptography.hazmat.primitives.padding import PKCS7\n",
    "\n",
    "SEED = 0\n",
    "BLOCK_SIZE = 128\n",
    "\n",
    "# seed\n",
    "random.seed(0)\n",
    "\n",
    "# generate random key and iv\n",
    "KEY = bytes(random.randrange(256) for _ in range(BLOCK_SIZE // 8))\n",
    "IV = bytes(random.randrange(256) for _ in range(BLOCK_SIZE // 8))\n",
    "print(KEY.hex(), IV.hex())"
   ]
  },
  {
   "cell_type": "code",
   "execution_count": 4,
   "metadata": {},
   "outputs": [
    {
     "name": "stdout",
     "output_type": "stream",
     "text": [
      "b'11335577 is my student ID. We will encrypt the message in different ways.\\x07\\x07\\x07\\x07\\x07\\x07\\x07'\n",
      "b'11335577 is my student ID. We will encrypt the message in different ways.'\n",
      "b'22446688 is my student ID. We will encrypt the message in different ways.\\x07\\x07\\x07\\x07\\x07\\x07\\x07'\n",
      "b'22446688 is my student ID. We will encrypt the message in different ways.'\n"
     ]
    }
   ],
   "source": [
    "# create padder that required by ECB and CBC modes, https://cryptography.io/en/latest/hazmat/primitives/symmetric-encryption/\n",
    "padder, unpadder = PKCS7(BLOCK_SIZE).padder(), PKCS7(BLOCK_SIZE).unpadder()\n",
    "padded_data = padder.update(M1) + padder.finalize()\n",
    "print(padded_data)\n",
    "print(unpadder.update(padded_data) + unpadder.finalize())\n",
    "\n",
    "padder, unpadder = PKCS7(BLOCK_SIZE).padder(), PKCS7(BLOCK_SIZE).unpadder()\n",
    "padded_data = padder.update(M2) + padder.finalize()\n",
    "print(padded_data)\n",
    "print(unpadder.update(padded_data) + unpadder.finalize())"
   ]
  },
  {
   "cell_type": "code",
   "execution_count": 5,
   "metadata": {},
   "outputs": [],
   "source": [
    "def encrypt_then_decrypt(plaintext, mode=modes.ECB()):\n",
    "    cipher = Cipher(algorithms.AES(KEY), mode)\n",
    "    encryptor, decryptor = cipher.encryptor(), cipher.decryptor()\n",
    "    padder, unpadder = PKCS7(128).padder(), PKCS7(128).unpadder()\n",
    "\n",
    "    # encrypt\n",
    "    if len(plaintext) % 16 != 0:\n",
    "        padded_data = padder.update(plaintext) + padder.finalize()\n",
    "    else:\n",
    "        padded_data = plaintext\n",
    "\n",
    "    ciphered_data = encryptor.update(padded_data) + encryptor.finalize()\n",
    "\n",
    "    # decrypt\n",
    "    decipered_data = decryptor.update(ciphered_data) + decryptor.finalize()\n",
    "    if len(plaintext) % 16 != 0:\n",
    "        unpadded_data = unpadder.update(decipered_data) + unpadder.finalize()\n",
    "        assert plaintext == unpadded_data\n",
    "\n",
    "    return ciphered_data"
   ]
  },
  {
   "cell_type": "code",
   "execution_count": 6,
   "metadata": {},
   "outputs": [],
   "source": [
    "color2num = dict(\n",
    "    gray=30,\n",
    "    red=31,\n",
    "    green=32,\n",
    "    yellow=33,\n",
    "    blue=34,\n",
    "    magenta=35,\n",
    "    cyan=36,\n",
    "    white=37,\n",
    "    crimson=38,\n",
    ")\n",
    "\n",
    "def colorize(string, color, bold=False, highlight=False):\n",
    "    \"\"\"\n",
    "    Colorize a string.\n",
    "\n",
    "    This function was originally written by John Schulman.\n",
    "    \"\"\"\n",
    "    attr = []\n",
    "    num = color2num[color]\n",
    "    if highlight:\n",
    "        num += 10\n",
    "    attr.append(str(num))\n",
    "    if bold:\n",
    "        attr.append(\"1\")\n",
    "    return \"\\x1b[%sm%s\\x1b[0m\" % (\";\".join(attr), string)\n",
    "\n",
    "def visual_hex_diff(a,b):\n",
    "    a, b = textwrap.wrap(a.hex(), 16), textwrap.wrap(b.hex(), 16)\n",
    "    SEP = \"   |   \"\n",
    "    print(\" \", \"ciphered M1\".ljust(16), \"ciphered M2\", sep=SEP)\n",
    "    for i, (m1, m2) in enumerate(zip(a, b)):\n",
    "        color = \"red\" if m1 != m2 else \"green\"\n",
    "        print(i, m1, colorize(m2, color), sep=SEP)"
   ]
  },
  {
   "cell_type": "code",
   "execution_count": 7,
   "metadata": {},
   "outputs": [
    {
     "name": "stdout",
     "output_type": "stream",
     "text": [
      "    |   ciphered M1        |   ciphered M2\n",
      "0   |   f9ac8dae3bfef744   |   \u001b[31m9159269855625cc3\u001b[0m\n",
      "1   |   880c3c13ee28eeb2   |   \u001b[31m939c0187877ec1e0\u001b[0m\n",
      "2   |   e41e2fadaa393921   |   \u001b[32me41e2fadaa393921\u001b[0m\n",
      "3   |   5521cdf80420a7d9   |   \u001b[32m5521cdf80420a7d9\u001b[0m\n",
      "4   |   e5ae86391ea0185b   |   \u001b[32me5ae86391ea0185b\u001b[0m\n",
      "5   |   be9fdad51605d41b   |   \u001b[32mbe9fdad51605d41b\u001b[0m\n",
      "6   |   56c843974849eef2   |   \u001b[32m56c843974849eef2\u001b[0m\n",
      "7   |   81876d73acd99d70   |   \u001b[32m81876d73acd99d70\u001b[0m\n",
      "8   |   0d7a24960697c96b   |   \u001b[32m0d7a24960697c96b\u001b[0m\n",
      "9   |   fe8d61392693c8d7   |   \u001b[32mfe8d61392693c8d7\u001b[0m\n"
     ]
    }
   ],
   "source": [
    "ciphered_M1 = encrypt_then_decrypt(M1, modes.ECB())\n",
    "ciphered_M2 = encrypt_then_decrypt(M2, modes.ECB())\n",
    "visual_hex_diff(ciphered_M1, ciphered_M2)"
   ]
  },
  {
   "cell_type": "code",
   "execution_count": 8,
   "metadata": {},
   "outputs": [
    {
     "name": "stdout",
     "output_type": "stream",
     "text": [
      "    |   ciphered M1        |   ciphered M2\n",
      "0   |   510a1f951e74d2bd   |   \u001b[31m04d75e345474efd6\u001b[0m\n",
      "1   |   918c607c59ecc708   |   \u001b[31mc93c7b2767d03a2c\u001b[0m\n",
      "2   |   def5a0a286d78a6f   |   \u001b[31mfb32417bf8a80ab3\u001b[0m\n",
      "3   |   b568eefc924391a9   |   \u001b[31mbd46274130510725\u001b[0m\n",
      "4   |   8173cc12217f0a39   |   \u001b[31mc5aa36451cb2f9a4\u001b[0m\n",
      "5   |   2a738219ed52c601   |   \u001b[31m22ce4aace2daed57\u001b[0m\n",
      "6   |   6534860559b1c8aa   |   \u001b[31ma3241f83268b2fa3\u001b[0m\n",
      "7   |   6a82f0eba8bd5793   |   \u001b[31m359ab8d3313eed73\u001b[0m\n",
      "8   |   a4a8da02beaeea97   |   \u001b[31mfc69795dc1970d57\u001b[0m\n",
      "9   |   931c5b3ba98e52b1   |   \u001b[31m974a15b3cbda9da3\u001b[0m\n"
     ]
    }
   ],
   "source": [
    "ciphered_M1 = encrypt_then_decrypt(M1, modes.CBC(IV))\n",
    "ciphered_M2 = encrypt_then_decrypt(M2, modes.CBC(IV))\n",
    "visual_hex_diff(ciphered_M1, ciphered_M2)"
   ]
  },
  {
   "cell_type": "code",
   "execution_count": null,
   "metadata": {},
   "outputs": [],
   "source": []
  }
 ],
 "metadata": {
  "kernelspec": {
   "display_name": "llm",
   "language": "python",
   "name": "python3"
  },
  "language_info": {
   "codemirror_mode": {
    "name": "ipython",
    "version": 3
   },
   "file_extension": ".py",
   "mimetype": "text/x-python",
   "name": "python",
   "nbconvert_exporter": "python",
   "pygments_lexer": "ipython3",
   "version": "3.10.13"
  }
 },
 "nbformat": 4,
 "nbformat_minor": 2
}
