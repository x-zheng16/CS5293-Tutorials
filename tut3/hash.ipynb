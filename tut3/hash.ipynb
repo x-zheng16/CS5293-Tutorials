{
 "cells": [
  {
   "cell_type": "markdown",
   "metadata": {},
   "source": [
    "# Hashing: Secure Hash Algorithm (SHA)"
   ]
  },
  {
   "cell_type": "code",
   "execution_count": null,
   "metadata": {},
   "outputs": [],
   "source": [
    "# https://cryptography.io/en/latest/hazmat/primitives/cryptographic-hashes/"
   ]
  },
  {
   "cell_type": "code",
   "execution_count": null,
   "metadata": {},
   "outputs": [],
   "source": [
    "import textwrap\n",
    "\n",
    "color2num = dict(\n",
    "    gray=30,\n",
    "    red=31,\n",
    "    green=32,\n",
    "    yellow=33,\n",
    "    blue=34,\n",
    "    magenta=35,\n",
    "    cyan=36,\n",
    "    white=37,\n",
    "    crimson=38,\n",
    ")\n",
    "\n",
    "def colorize(string, color, bold=True, highlight=False):\n",
    "    \"\"\"\n",
    "    Colorize a string.\n",
    "\n",
    "    This function was originally written by John Schulman.\n",
    "    \"\"\"\n",
    "    attr = []\n",
    "    num = color2num[color]\n",
    "    if highlight:\n",
    "        num += 10\n",
    "    attr.append(str(num))\n",
    "    if bold:\n",
    "        attr.append(\"1\")\n",
    "    return \"\\x1b[%sm%s\\x1b[0m\" % (\";\".join(attr), string)\n",
    "\n",
    "def visual_hex_diff(bstr_1, bstr_2, hex_names=(\"HEX 1\", \"HEX 2\")):\n",
    "    SEP = \"   |   \"\n",
    "    print(\"  \", f\"{hex_names[0]}\".ljust(16 + 7), hex_names[1], sep=SEP)\n",
    "    # block level\n",
    "    hex_1, hex_2 = textwrap.wrap(bstr_1.hex(), 16), textwrap.wrap(bstr_2.hex(), 16)\n",
    "    for i, (block_1, block_2) in enumerate(zip(hex_1, hex_2)):\n",
    "        # byte level\n",
    "        block_1, block_2 = textwrap.wrap(block_1, 2), textwrap.wrap(block_2, 2)\n",
    "        block_2 = [colorize(v2, \"red\" if v1 != v2 else \"green\") for v1, v2 in zip(block_1, block_2)]\n",
    "        print(str(i).rjust(2), \" \".join(block_1).ljust(16 + 7), \" \".join(block_2).ljust( 16 + 7), sep=SEP)"
   ]
  },
  {
   "cell_type": "code",
   "execution_count": null,
   "metadata": {},
   "outputs": [],
   "source": [
    "M1 = b\"0123\""
   ]
  },
  {
   "cell_type": "code",
   "execution_count": null,
   "metadata": {},
   "outputs": [],
   "source": [
    "import random\n",
    "\n",
    "random.seed(0)  # Set the seed to 0 to get a predictable output\n",
    "\n",
    "# Convert bytes string to a list of integers\n",
    "int_list = list(M1)\n",
    "\n",
    "# Generate a random index to select an integer from the list\n",
    "index = random.randint(0, len(int_list) - 1)\n",
    "\n",
    "# Generate a random bit position to flip (0 to 7)\n",
    "bit_position = random.randint(0, 7)\n",
    "\n",
    "# Flip the bit at the random position in the selected integer\n",
    "original_int = int_list[index]\n",
    "int_list[index] ^= (1 << bit_position)\n",
    "\n",
    "# Convert the list of integers back to a bytes string\n",
    "M2 = bytes(int_list)\n",
    "print(M2)"
   ]
  },
  {
   "cell_type": "code",
   "execution_count": null,
   "metadata": {},
   "outputs": [],
   "source": [
    "# visualize the bit flipping\n",
    "original_bits = list(bin(original_int)[2:].rjust(8, \"0\"))\n",
    "flipped_bits = list(bin(int_list[index])[2:].rjust(8, \"0\"))\n",
    "flipped_bits = [colorize(v2, \"red\" if v1 != v2 else \"green\") for v1, v2 in zip(original_bits, flipped_bits)]\n",
    "print(\"Before Flipping: \\t{} ('{}', 0x{})\".format(\" \".join(original_bits), M1.decode()[index], M1.decode()[-1].encode().hex()))\n",
    "print(\"After Flipping: \\t{} ('{}', 0x{})\".format(\" \".join(flipped_bits), M2.decode()[index], M2.decode()[-1].encode().hex()))"
   ]
  },
  {
   "cell_type": "code",
   "execution_count": null,
   "metadata": {},
   "outputs": [],
   "source": [
    "visual_hex_diff(M1, M2, (\"M1\", \"M2\"))"
   ]
  },
  {
   "cell_type": "code",
   "execution_count": null,
   "metadata": {},
   "outputs": [],
   "source": [
    "from cryptography.hazmat.primitives import hashes\n",
    "\n",
    "def digest(msg):\n",
    "    digest = hashes.Hash(hashes.SHA256())\n",
    "    digest.update(msg)\n",
    "    return digest.finalize()\n",
    "\n",
    "H1, H2 = digest(M1), digest(M2)\n",
    "visual_hex_diff(H1, H2, (\"H1\", \"H2\"))"
   ]
  }
 ],
 "metadata": {
  "kernelspec": {
   "display_name": "llm",
   "language": "python",
   "name": "python3"
  },
  "language_info": {
   "codemirror_mode": {
    "name": "ipython",
    "version": 3
   },
   "file_extension": ".py",
   "mimetype": "text/x-python",
   "name": "python",
   "nbconvert_exporter": "python",
   "pygments_lexer": "ipython3",
   "version": "3.10.13"
  }
 },
 "nbformat": 4,
 "nbformat_minor": 2
}
