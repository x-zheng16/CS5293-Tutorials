{
 "cells": [
  {
   "cell_type": "code",
   "execution_count": 332,
   "metadata": {},
   "outputs": [],
   "source": [
    "color2num = dict(\n",
    "    gray=30,\n",
    "    red=31,\n",
    "    green=32,\n",
    "    yellow=33,\n",
    "    blue=34,\n",
    "    magenta=35,\n",
    "    cyan=36,\n",
    "    white=37,\n",
    "    crimson=38,\n",
    ")\n",
    "\n",
    "def colorize(string, color, bold=False, highlight=False):\n",
    "    \"\"\"\n",
    "    Colorize a string.\n",
    "\n",
    "    This function was originally written by John Schulman.\n",
    "    \"\"\"\n",
    "    attr = []\n",
    "    num = color2num[color]\n",
    "    if highlight:\n",
    "        num += 10\n",
    "    attr.append(str(num))\n",
    "    if bold:\n",
    "        attr.append(\"1\")\n",
    "    return \"\\x1b[%sm%s\\x1b[0m\" % (\";\".join(attr), string)\n",
    "\n",
    "\n",
    "def chunk(seq, size=32, start_id=0):\n",
    "    chunked_seq = \"\"\n",
    "    for j in range(start_id, size, 2):\n",
    "        chunked_seq += seq[j-start_id:j-start_id+2] + \" \"\n",
    "    chunked_seq = chunked_seq.strip(\" \")\n",
    "    chunked_seq += \"\\n\"\n",
    "    for i in range(size, len(seq), size):\n",
    "        for j in range(i, i+size, 2):\n",
    "            chunked_seq += seq[j-start_id:j-start_id+2] + \" \"\n",
    "        chunked_seq = chunked_seq.strip(\" \")\n",
    "        chunked_seq += \"\\n\"\n",
    "    chunked_seq = chunked_seq.strip(\"\\n\")\n",
    "    return chunked_seq"
   ]
  },
  {
   "cell_type": "markdown",
   "metadata": {},
   "source": [
    "# Create random string"
   ]
  },
  {
   "cell_type": "code",
   "execution_count": 234,
   "metadata": {},
   "outputs": [
    {
     "name": "stdout",
     "output_type": "stream",
     "text": [
      "b'0000000000000000222222222222222244444444444444446666666666666666'\n",
      "64\n"
     ]
    }
   ],
   "source": [
    "import random\n",
    "\n",
    "random.seed(0)\n",
    "num_plaintext_bytes = 64\n",
    "block_bytes = 128 // 8\n",
    "\n",
    "plaintext_origin = \"\".join(str(i*2)*block_bytes for i in range(num_plaintext_bytes//block_bytes)).encode()\n",
    "random_plaintext = bytes(random.randrange(256) for _ in range(num_plaintext_bytes))\n",
    "with open(\"h1_plaintext_origin\", \"wb\") as f:\n",
    "    f.write(plaintext_origin)\n",
    "\n",
    "print(plaintext_origin)\n",
    "print(len(random_plaintext))"
   ]
  },
  {
   "cell_type": "markdown",
   "metadata": {},
   "source": [
    "# Encryption\n",
    "\n",
    "available cipher:\n",
    "\n",
    "```text\n",
    "aes-[128|192|256]-cbc  128/192/256 bit AES in CBC mode\n",
    "aes[128|192|256]       Alias for aes-[128|192|256]-cbc\n",
    "aes-[128|192|256]-cfb  128/192/256 bit AES in 128 bit CFB mode\n",
    "aes-[128|192|256]-cfb1 128/192/256 bit AES in 1 bit CFB mode\n",
    "aes-[128|192|256]-cfb8 128/192/256 bit AES in 8 bit CFB mode\n",
    "aes-[128|192|256]-ctr  128/192/256 bit AES in CTR mode\n",
    "aes-[128|192|256]-ecb  128/192/256 bit AES in ECB mode\n",
    "aes-[128|192|256]-ofb  128/192/256 bit AES in OFB mode\n",
    "```"
   ]
  },
  {
   "cell_type": "code",
   "execution_count": 235,
   "metadata": {},
   "outputs": [
    {
     "name": "stdout",
     "output_type": "stream",
     "text": [
      "16 c5d71484f8cf9bf4b76f47904730804b 9e3225a9f133b5dea168f4e2851f072f\n"
     ]
    }
   ],
   "source": [
    "random.seed(0)\n",
    "\n",
    "Key = bytes(random.randrange(256) for _ in range(block_bytes)).hex()\n",
    "IV = bytes(random.randrange(256) for _ in range(block_bytes)).hex()\n",
    "print(block_bytes, Key, IV)"
   ]
  },
  {
   "cell_type": "markdown",
   "metadata": {},
   "source": [
    "## ecb"
   ]
  },
  {
   "cell_type": "markdown",
   "metadata": {},
   "source": [
    "### cipher"
   ]
  },
  {
   "cell_type": "code",
   "execution_count": 236,
   "metadata": {},
   "outputs": [],
   "source": [
    "!openssl enc -e -aes-128-ecb -in h1_plaintext_origin -out h1_ciphertext_ecb -K c5d71484f8cf9bf4b76f47904730804b"
   ]
  },
  {
   "cell_type": "markdown",
   "metadata": {},
   "source": [
    "### corrupt ciphertext"
   ]
  },
  {
   "cell_type": "code",
   "execution_count": 237,
   "metadata": {},
   "outputs": [],
   "source": [
    "with open(\"h1_ciphertext_ecb\", \"rb\") as f:\n",
    "    ciphertext_ecb = f.read()\n",
    "ciphertext_ecb_corrupted = bytearray(ciphertext_ecb)\n",
    "ciphertext_ecb_corrupted[27] += 1\n",
    "ciphertext_ecb_corrupted = bytes(ciphertext_ecb_corrupted)\n",
    "with open(\"h1_ciphertext_ecb_corrupted\", \"wb\") as f:\n",
    "    f.write(ciphertext_ecb_corrupted)"
   ]
  },
  {
   "cell_type": "markdown",
   "metadata": {},
   "source": [
    "### decipher"
   ]
  },
  {
   "cell_type": "code",
   "execution_count": 277,
   "metadata": {},
   "outputs": [],
   "source": [
    "!openssl enc -d -aes-128-ecb -in h1_ciphertext_ecb -out h1_plaintext_deciphered_ecb -K c5d71484f8cf9bf4b76f47904730804b\n",
    "!openssl enc -d -aes-128-ecb -in h1_ciphertext_ecb_corrupted -out h1_plaintext_deciphered_ecb_corrupted -K c5d71484f8cf9bf4b76f47904730804b"
   ]
  },
  {
   "cell_type": "markdown",
   "metadata": {},
   "source": [
    "### compare"
   ]
  },
  {
   "cell_type": "code",
   "execution_count": 337,
   "metadata": {},
   "outputs": [
    {
     "name": "stdout",
     "output_type": "stream",
     "text": [
      "\u001b[35;1mcipher: aes-128-ecb\u001b[0m\n",
      "original plaintext:\n",
      " \u001b[36m30 30 30 30 30 30 30 30 30 30 30 30 30 30 30 30\n",
      "32 32 32 32 32 32 32 32 32 32 32 32 32 32 32 32\n",
      "34 34 34 34 34 34 34 34 34 34 34 34 34 34 34 34\n",
      "36 36 36 36 36 36 36 36 36 36 36 36 36 36 36 36\u001b[0m\n",
      "ciphertext:\n",
      " eb c6 af 7b ae 0b f0 66 4c 6b 5f 71 91 89 29 30\n",
      "32 dc e0 02 b1 78 18 82 c6 6b dd 38 b1 7d fc 72\n",
      "36 a8 1f a3 d4 8f 4c 0c 1a 15 8e 82 46 59 df 81\n",
      "f3 a1 ca 4a 62 9c 09 ec b4 14 0f f9 13 c1 cc 9e\n",
      "cb 01 a9 97 5e 27 39 13 0c 3d b1 e5 47 bc bf e0\n",
      "corrupted ciphertext:\n",
      " eb c6 af 7b ae 0b f0 66 4c 6b 5f 71 91 89 29 30\n",
      "32 dc e0 02 b1 78 18 82 c6 6b dd \u001b[31m39\u001b[0m b1 7d fc 72\n",
      "36 a8 1f a3 d4 8f 4c 0c 1a 15 8e 82 46 59 df 81\n",
      "f3 a1 ca 4a 62 9c 09 ec b4 14 0f f9 13 c1 cc 9e\n",
      "cb 01 a9 97 5e 27 39 13 0c 3d b1 e5 47 bc bf e0\n",
      "deciphered plaintext from ciphertext:\n",
      " \u001b[34m30 30 30 30 30 30 30 30 30 30 30 30 30 30 30 30\n",
      "32 32 32 32 32 32 32 32 32 32 32 32 32 32 32 32\n",
      "34 34 34 34 34 34 34 34 34 34 34 34 34 34 34 34\n",
      "36 36 36 36 36 36 36 36 36 36 36 36 36 36 36 36\u001b[0m\n",
      "deciphered plaintext from corrupted ciphertext:\n",
      " \u001b[33m30 30 30 30 30 30 30 30 30 30 30 30 30 30 30 30\n",
      "19 a7 63 ff e8 86 e3 93 f2 97 04 86 52 5a 3f 19\n",
      "34 34 34 34 34 34 34 34 34 34 34 34 34 34 34 34\n",
      "36 36 36 36 36 36 36 36 36 36 36 36 36 36 36 36\u001b[0m\n"
     ]
    }
   ],
   "source": [
    "with open(\"h1_plaintext_deciphered_ecb\", \"rb\") as f:\n",
    "    plaintext_deciphered_ecb = f.read()\n",
    "with open(\"h1_plaintext_deciphered_ecb_corrupted\", \"rb\") as f:\n",
    "    plaintext_deciphered_ecb_corrupted = f.read()\n",
    "\n",
    "print(colorize(\"cipher: aes-128-ecb\", \"magenta\", True))\n",
    "print(\"original plaintext:\\n\", colorize(chunk(plaintext_origin.hex()), \"cyan\"))\n",
    "print(\"ciphertext:\\n\", chunk(ciphertext_ecb.hex()))\n",
    "print(\"corrupted ciphertext:\\n\", chunk(ciphertext_ecb_corrupted[:27].hex()) \n",
    "    + \" \" + colorize(chunk(ciphertext_ecb_corrupted[27:28].hex()), \"red\") \n",
    "    + \" \" + chunk(ciphertext_ecb_corrupted[28:].hex(), start_id=12*2))\n",
    "print(\"deciphered plaintext from ciphertext:\\n\", colorize(chunk(plaintext_deciphered_ecb.hex()), \"blue\"))\n",
    "print(\"deciphered plaintext from corrupted ciphertext:\\n\", colorize(chunk(plaintext_deciphered_ecb_corrupted.hex()), \"yellow\"))"
   ]
  },
  {
   "cell_type": "markdown",
   "metadata": {},
   "source": [
    "## cbc"
   ]
  },
  {
   "cell_type": "code",
   "execution_count": 338,
   "metadata": {},
   "outputs": [
    {
     "name": "stdout",
     "output_type": "stream",
     "text": [
      "\u001b[35;1mcipher: aes-128-cbc\u001b[0m\n",
      "original plaintext:\n",
      " \u001b[36m30 30 30 30 30 30 30 30 30 30 30 30 30 30 30 30\n",
      "32 32 32 32 32 32 32 32 32 32 32 32 32 32 32 32\n",
      "34 34 34 34 34 34 34 34 34 34 34 34 34 34 34 34\n",
      "36 36 36 36 36 36 36 36 36 36 36 36 36 36 36 36\u001b[0m\n",
      "ciphertext:\n",
      " d4 f3 8a d9 16 ed 54 d0 c1 71 7a 86 3b 46 bb 34\n",
      "8d de 79 61 d0 e1 63 fe 03 31 6a f7 25 3c b1 2a\n",
      "d4 53 06 8b 1c ca 7c 52 b5 2d 46 1d 8e 14 20 ad\n",
      "42 a2 7f d7 3a 81 42 85 f9 81 4a 17 38 a4 26 7e\n",
      "c0 2e db 7d 49 9a 0e 15 be 04 40 2c 70 0a 91 16\n",
      "corrupted ciphertext:\n",
      " d4 f3 8a d9 16 ed 54 d0 c1 71 7a 86 3b 46 bb 34\n",
      "8d de 79 61 d0 e1 63 fe 03 31 6a \u001b[31mf8\u001b[0m 25 3c b1 2a\n",
      "d4 53 06 8b 1c ca 7c 52 b5 2d 46 1d 8e 14 20 ad\n",
      "42 a2 7f d7 3a 81 42 85 f9 81 4a 17 38 a4 26 7e\n",
      "c0 2e db 7d 49 9a 0e 15 be 04 40 2c 70 0a 91 16\n",
      "deciphered plaintext from ciphertext:\n",
      " \u001b[34m30 30 30 30 30 30 30 30 30 30 30 30 30 30 30 30\n",
      "32 32 32 32 32 32 32 32 32 32 32 32 32 32 32 32\n",
      "34 34 34 34 34 34 34 34 34 34 34 34 34 34 34 34\n",
      "36 36 36 36 36 36 36 36 36 36 36 36 36 36 36 36\u001b[0m\n",
      "deciphered plaintext from corrupted ciphertext:\n",
      " \u001b[33m30 30 30 30 30 30 30 30 30 30 30 30 30 30 30 30\n",
      "5f 6f e1 5a 72 ce a7 ea 30 b9 41 1f e5 4b 1d 10\n",
      "34 34 34 34 34 34 34 34 34 34 34 3b 34 34 34 34\n",
      "36 36 36 36 36 36 36 36 36 36 36 36 36 36 36 36\u001b[0m\n"
     ]
    }
   ],
   "source": [
    "### cipher\n",
    "!openssl enc -e -aes-128-cbc -in h1_plaintext_origin -out h1_ciphertext_cbc -K c5d71484f8cf9bf4b76f47904730804b -iv 9e3225a9f133b5dea168f4e2851f072f\n",
    "\n",
    "### corrupt ciphertext\n",
    "with open(\"h1_ciphertext_cbc\", \"rb\") as f:\n",
    "    ciphertext_cbc = f.read()\n",
    "ciphertext_cbc_corrupted = bytearray(ciphertext_cbc)\n",
    "ciphertext_cbc_corrupted[27] += 1\n",
    "ciphertext_cbc_corrupted = bytes(ciphertext_cbc_corrupted)\n",
    "with open(\"h1_ciphertext_cbc_corrupted\", \"wb\") as f:\n",
    "    f.write(ciphertext_cbc_corrupted)\n",
    "\n",
    "### decipher\n",
    "!openssl enc -d -aes-128-cbc -in h1_ciphertext_cbc -out h1_plaintext_deciphered_cbc -K c5d71484f8cf9bf4b76f47904730804b -iv 9e3225a9f133b5dea168f4e2851f072f\n",
    "!openssl enc -d -aes-128-cbc -in h1_ciphertext_cbc_corrupted -out h1_plaintext_deciphered_cbc_corrupted -K c5d71484f8cf9bf4b76f47904730804b -iv 9e3225a9f133b5dea168f4e2851f072f\n",
    "\n",
    "### compare\n",
    "with open(\"h1_plaintext_deciphered_cbc\", \"rb\") as f:\n",
    "    plaintext_deciphered_cbc = f.read()\n",
    "with open(\"h1_plaintext_deciphered_cbc_corrupted\", \"rb\") as f:\n",
    "    plaintext_deciphered_cbc_corrupted = f.read()\n",
    "\n",
    "print(colorize(\"cipher: aes-128-cbc\", \"magenta\", True))\n",
    "print(\"original plaintext:\\n\", colorize(chunk(plaintext_origin.hex()), \"cyan\"))\n",
    "print(\"ciphertext:\\n\", chunk(ciphertext_cbc.hex()))\n",
    "print(\"corrupted ciphertext:\\n\", chunk(ciphertext_cbc_corrupted[:27].hex()) \n",
    "    + \" \" + colorize(chunk(ciphertext_cbc_corrupted[27:28].hex()), \"red\") \n",
    "    + \" \" + chunk(ciphertext_cbc_corrupted[28:].hex(), start_id=12*2))\n",
    "print(\"deciphered plaintext from ciphertext:\\n\", colorize(chunk(plaintext_deciphered_cbc.hex()), \"blue\"))\n",
    "print(\"deciphered plaintext from corrupted ciphertext:\\n\", colorize(chunk(plaintext_deciphered_cbc_corrupted.hex()), \"yellow\"))"
   ]
  },
  {
   "cell_type": "markdown",
   "metadata": {},
   "source": [
    "### Conclusion"
   ]
  },
  {
   "cell_type": "markdown",
   "metadata": {},
   "source": [
    "A one-bit change to the ciphertext causes complete corruption of the corresponding block of plaintext, and inverts the corresponding bit in the following block of plaintext, but the rest of the blocks remain intact. "
   ]
  },
  {
   "cell_type": "markdown",
   "metadata": {},
   "source": [
    "## ofb"
   ]
  },
  {
   "cell_type": "code",
   "execution_count": 340,
   "metadata": {},
   "outputs": [
    {
     "name": "stdout",
     "output_type": "stream",
     "text": [
      "\u001b[35;1mcipher: aes-128-ofb\u001b[0m\n",
      "original plaintext: \n",
      " \u001b[36m30 30 30 30 30 30 30 30 30 30 30 30 30 30 30 30\n",
      "32 32 32 32 32 32 32 32 32 32 32 32 32 32 32 32\n",
      "34 34 34 34 34 34 34 34 34 34 34 34 34 34 34 34\n",
      "36 36 36 36 36 36 36 36 36 36 36 36 36 36 36 36\u001b[0m\n",
      "ciphertext:\n",
      " b2 b8 3a 8c f8 76 3c d3 16 3b 16 59 50 11 5f 38\n",
      "78 bc 07 49 00 f7 eb f5 ef 8c a2 82 bf 5d 10 1b\n",
      "c7 16 1b 9c 8c 87 e4 1c ed ab fb cf c8 2e 7e 57\n",
      "af b6 d1 c4 4c 4a 81 85 b7 69 d7 c1 3d 83 db ba\n",
      "corrupted ciphertext:\n",
      " b2 b8 3a 8c f8 76 3c d3 16 3b 16 59 50 11 5f 38\n",
      "78 bc 07 49 00 f7 eb f5 ef 8c a2 \u001b[31m83\u001b[0m bf 5d 10 1b\n",
      "c7 16 1b 9c 8c 87 e4 1c ed ab fb cf c8 2e 7e 57\n",
      "af b6 d1 c4 4c 4a 81 85 b7 69 d7 c1 3d 83 db ba\n",
      "deciphered plaintext from ciphertext:\n",
      " \u001b[34m30 30 30 30 30 30 30 30 30 30 30 30 30 30 30 30\n",
      "32 32 32 32 32 32 32 32 32 32 32 32 32 32 32 32\n",
      "34 34 34 34 34 34 34 34 34 34 34 34 34 34 34 34\n",
      "36 36 36 36 36 36 36 36 36 36 36 36 36 36 36 36\u001b[0m\n",
      "deciphered plaintext from corrupted ciphertext:\n",
      " \u001b[33m30 30 30 30 30 30 30 30 30 30 30 30 30 30 30 30\n",
      "32 32 32 32 32 32 32 32 32 32 32 33 32 32 32 32\n",
      "34 34 34 34 34 34 34 34 34 34 34 34 34 34 34 34\n",
      "36 36 36 36 36 36 36 36 36 36 36 36 36 36 36 36\u001b[0m\n"
     ]
    }
   ],
   "source": [
    "### cipher\n",
    "!openssl enc -e -aes-128-ofb -in h1_plaintext_origin -out h1_ciphertext_ofb -K c5d71484f8cf9bf4b76f47904730804b -iv 9e3225a9f133b5dea168f4e2851f072f\n",
    "\n",
    "### corrupt ciphertext\n",
    "with open(\"h1_ciphertext_ofb\", \"rb\") as f:\n",
    "    ciphertext_ofb = f.read()\n",
    "ciphertext_ofb_corrupted = bytearray(ciphertext_ofb)\n",
    "ciphertext_ofb_corrupted[27] += 1\n",
    "ciphertext_ofb_corrupted = bytes(ciphertext_ofb_corrupted)\n",
    "with open(\"h1_ciphertext_ofb_corrupted\", \"wb\") as f:\n",
    "    f.write(ciphertext_ofb_corrupted)\n",
    "\n",
    "### decipher\n",
    "!openssl enc -d -aes-128-ofb -in h1_ciphertext_ofb -out h1_plaintext_deciphered_ofb -K c5d71484f8cf9bf4b76f47904730804b -iv 9e3225a9f133b5dea168f4e2851f072f\n",
    "!openssl enc -d -aes-128-ofb -in h1_ciphertext_ofb_corrupted -out h1_plaintext_deciphered_ofb_corrupted -K c5d71484f8cf9bf4b76f47904730804b -iv 9e3225a9f133b5dea168f4e2851f072f\n",
    "\n",
    "### compare\n",
    "with open(\"h1_plaintext_deciphered_ofb\", \"rb\") as f:\n",
    "    plaintext_deciphered_ofb = f.read()\n",
    "with open(\"h1_plaintext_deciphered_ofb_corrupted\", \"rb\") as f:\n",
    "    plaintext_deciphered_ofb_corrupted = f.read()\n",
    "\n",
    "print(colorize(\"cipher: aes-128-ofb\", \"magenta\", True))\n",
    "print(\"original plaintext:\\n\", colorize(chunk(plaintext_origin.hex()), \"cyan\"))\n",
    "print(\"ciphertext:\\n\", chunk(ciphertext_ofb.hex()))\n",
    "print(\"corrupted ciphertext:\\n\", chunk(ciphertext_ofb_corrupted[:27].hex()) \n",
    "    + \" \" + colorize(chunk(ciphertext_ofb_corrupted[27:28].hex()), \"red\") \n",
    "    + \" \" + chunk(ciphertext_ofb_corrupted[28:].hex(), start_id=12*2))\n",
    "print(\"deciphered plaintext from ciphertext:\\n\", colorize(chunk(plaintext_deciphered_ofb.hex()), \"blue\"))\n",
    "print(\"deciphered plaintext from corrupted ciphertext:\\n\", colorize(chunk(plaintext_deciphered_ofb_corrupted.hex()), \"yellow\"))"
   ]
  },
  {
   "cell_type": "markdown",
   "metadata": {},
   "source": [
    "### cfb"
   ]
  },
  {
   "cell_type": "code",
   "execution_count": 341,
   "metadata": {},
   "outputs": [
    {
     "name": "stdout",
     "output_type": "stream",
     "text": [
      "\u001b[35;1mcipher: aes-128-cfb\u001b[0m\n",
      "original plaintext:\n",
      " \u001b[36m30 30 30 30 30 30 30 30 30 30 30 30 30 30 30 30\n",
      "32 32 32 32 32 32 32 32 32 32 32 32 32 32 32 32\n",
      "34 34 34 34 34 34 34 34 34 34 34 34 34 34 34 34\n",
      "36 36 36 36 36 36 36 36 36 36 36 36 36 36 36 36\u001b[0m\n",
      "ciphertext:\n",
      " b2 b8 3a 8c f8 76 3c d3 16 3b 16 59 50 11 5f 38\n",
      "ce 1b 78 7c 82 6b ce 53 1a e2 82 2b 17 e3 82 94\n",
      "9b dc 40 94 09 c2 65 15 80 59 3a c9 48 5f 8c c5\n",
      "21 90 a6 e1 b0 50 a7 7e 6c 4b a3 b7 10 7b 72 00\n",
      "corrupted ciphertext:\n",
      " b2 b8 3a 8c f8 76 3c d3 16 3b 16 59 50 11 5f 38\n",
      "ce 1b 78 7c 82 6b ce 53 1a e2 82 \u001b[31m2c\u001b[0m 17 e3 82 94\n",
      "9b dc 40 94 09 c2 65 15 80 59 3a c9 48 5f 8c c5\n",
      "21 90 a6 e1 b0 50 a7 7e 6c 4b a3 b7 10 7b 72 00\n",
      "deciphered plaintext from ciphertext:\n",
      " \u001b[34m30 30 30 30 30 30 30 30 30 30 30 30 30 30 30 30\n",
      "32 32 32 32 32 32 32 32 32 32 32 32 32 32 32 32\n",
      "34 34 34 34 34 34 34 34 34 34 34 34 34 34 34 34\n",
      "36 36 36 36 36 36 36 36 36 36 36 36 36 36 36 36\u001b[0m\n",
      "deciphered plaintext from corrupted ciphertext:\n",
      " \u001b[33m30 30 30 30 30 30 30 30 30 30 30 30 30 30 30 30\n",
      "32 32 32 32 32 32 32 32 32 32 32 35 32 32 32 32\n",
      "9e b0 70 92 48 47 95 a0 a3 cc 9f b5 93 49 0b 25\n",
      "36 36 36 36 36 36 36 36 36 36 36 36 36 36 36 36\u001b[0m\n"
     ]
    }
   ],
   "source": [
    "### cipher\n",
    "!openssl enc -e -aes-128-cfb -in h1_plaintext_origin -out h1_ciphertext_cfb -K c5d71484f8cf9bf4b76f47904730804b -iv 9e3225a9f133b5dea168f4e2851f072f\n",
    "\n",
    "### corrupt ciphertext\n",
    "with open(\"h1_ciphertext_cfb\", \"rb\") as f:\n",
    "    ciphertext_cfb = f.read()\n",
    "ciphertext_cfb_corrupted = bytearray(ciphertext_cfb)\n",
    "ciphertext_cfb_corrupted[27] += 1\n",
    "ciphertext_cfb_corrupted = bytes(ciphertext_cfb_corrupted)\n",
    "with open(\"h1_ciphertext_cfb_corrupted\", \"wb\") as f:\n",
    "    f.write(ciphertext_cfb_corrupted)\n",
    "\n",
    "### decipher\n",
    "!openssl enc -d -aes-128-cfb -in h1_ciphertext_cfb -out h1_plaintext_deciphered_cfb -K c5d71484f8cf9bf4b76f47904730804b -iv 9e3225a9f133b5dea168f4e2851f072f\n",
    "!openssl enc -d -aes-128-cfb -in h1_ciphertext_cfb_corrupted -out h1_plaintext_deciphered_cfb_corrupted -K c5d71484f8cf9bf4b76f47904730804b -iv 9e3225a9f133b5dea168f4e2851f072f\n",
    "\n",
    "### compare\n",
    "with open(\"h1_plaintext_deciphered_cfb\", \"rb\") as f:\n",
    "    plaintext_deciphered_cfb = f.read()\n",
    "with open(\"h1_plaintext_deciphered_cfb_corrupted\", \"rb\") as f:\n",
    "    plaintext_deciphered_cfb_corrupted = f.read()\n",
    "\n",
    "print(colorize(\"cipher: aes-128-cfb\", \"magenta\", True))\n",
    "print(\"original plaintext:\\n\", colorize(chunk(plaintext_origin.hex()), \"cyan\"))\n",
    "print(\"ciphertext:\\n\", chunk(ciphertext_cfb.hex()))\n",
    "print(\"corrupted ciphertext:\\n\", chunk(ciphertext_cfb_corrupted[:27].hex()) \n",
    "    + \" \" + colorize(chunk(ciphertext_cfb_corrupted[27:28].hex()), \"red\") \n",
    "    + \" \" + chunk(ciphertext_cfb_corrupted[28:].hex(), start_id=12*2))\n",
    "print(\"deciphered plaintext from ciphertext:\\n\", colorize(chunk(plaintext_deciphered_cfb.hex()), \"blue\"))\n",
    "print(\"deciphered plaintext from corrupted ciphertext:\\n\", colorize(chunk(plaintext_deciphered_cfb_corrupted.hex()), \"yellow\"))"
   ]
  },
  {
   "cell_type": "markdown",
   "metadata": {},
   "source": [
    "### ctr"
   ]
  },
  {
   "cell_type": "code",
   "execution_count": 343,
   "metadata": {},
   "outputs": [
    {
     "name": "stdout",
     "output_type": "stream",
     "text": [
      "\u001b[35;1mcipher: aes-128-ctr\u001b[0m\n",
      "original plaintext:\n",
      " \u001b[36m30 30 30 30 30 30 30 30 30 30 30 30 30 30 30 30\n",
      "32 32 32 32 32 32 32 32 32 32 32 32 32 32 32 32\n",
      "34 34 34 34 34 34 34 34 34 34 34 34 34 34 34 34\n",
      "36 36 36 36 36 36 36 36 36 36 36 36 36 36 36 36\u001b[0m\n",
      "ciphertext:\n",
      " b2 b8 3a 8c f8 76 3c d3 16 3b 16 59 50 11 5f 38\n",
      "51 5e 8f 63 18 e7 63 0a a6 84 64 78 bc c5 dc 3b\n",
      "89 32 99 a1 a1 61 be 1a ee ef 82 61 3e 3a 72 d8\n",
      "01 01 e4 71 6e c8 19 c1 ba 83 60 40 5b 58 19 b7\n",
      "corrupted ciphertext:\n",
      " b2 b8 3a 8c f8 76 3c d3 16 3b 16 59 50 11 5f 38\n",
      "51 5e 8f 63 18 e7 63 0a a6 84 64 \u001b[31m79\u001b[0m bc c5 dc 3b\n",
      "89 32 99 a1 a1 61 be 1a ee ef 82 61 3e 3a 72 d8\n",
      "01 01 e4 71 6e c8 19 c1 ba 83 60 40 5b 58 19 b7\n",
      "deciphered plaintext from ciphertext:\n",
      " \u001b[34m30 30 30 30 30 30 30 30 30 30 30 30 30 30 30 30\n",
      "32 32 32 32 32 32 32 32 32 32 32 32 32 32 32 32\n",
      "34 34 34 34 34 34 34 34 34 34 34 34 34 34 34 34\n",
      "36 36 36 36 36 36 36 36 36 36 36 36 36 36 36 36\u001b[0m\n",
      "deciphered plaintext from corrupted ciphertext:\n",
      " \u001b[33m30 30 30 30 30 30 30 30 30 30 30 30 30 30 30 30\n",
      "32 32 32 32 32 32 32 32 32 32 32 33 32 32 32 32\n",
      "34 34 34 34 34 34 34 34 34 34 34 34 34 34 34 34\n",
      "36 36 36 36 36 36 36 36 36 36 36 36 36 36 36 36\u001b[0m\n"
     ]
    }
   ],
   "source": [
    "### cipher\n",
    "!openssl enc -e -aes-128-ctr -in h1_plaintext_origin -out h1_ciphertext_ctr -K c5d71484f8cf9bf4b76f47904730804b -iv 9e3225a9f133b5dea168f4e2851f072f\n",
    "\n",
    "### corrupt ciphertext\n",
    "with open(\"h1_ciphertext_ctr\", \"rb\") as f:\n",
    "    ciphertext_ctr = f.read()\n",
    "ciphertext_ctr_corrupted = bytearray(ciphertext_ctr)\n",
    "ciphertext_ctr_corrupted[27] += 1\n",
    "ciphertext_ctr_corrupted = bytes(ciphertext_ctr_corrupted)\n",
    "with open(\"h1_ciphertext_ctr_corrupted\", \"wb\") as f:\n",
    "    f.write(ciphertext_ctr_corrupted)\n",
    "\n",
    "### decipher\n",
    "!openssl enc -d -aes-128-ctr -in h1_ciphertext_ctr -out h1_plaintext_deciphered_ctr -K c5d71484f8cf9bf4b76f47904730804b -iv 9e3225a9f133b5dea168f4e2851f072f\n",
    "!openssl enc -d -aes-128-ctr -in h1_ciphertext_ctr_corrupted -out h1_plaintext_deciphered_ctr_corrupted -K c5d71484f8cf9bf4b76f47904730804b -iv 9e3225a9f133b5dea168f4e2851f072f\n",
    "\n",
    "### compare\n",
    "with open(\"h1_plaintext_deciphered_ctr\", \"rb\") as f:\n",
    "    plaintext_deciphered_ctr = f.read()\n",
    "with open(\"h1_plaintext_deciphered_ctr_corrupted\", \"rb\") as f:\n",
    "    plaintext_deciphered_ctr_corrupted = f.read()\n",
    "\n",
    "print(colorize(\"cipher: aes-128-ctr\", \"magenta\", True))\n",
    "print(\"original plaintext:\\n\", colorize(chunk(plaintext_origin.hex()), \"cyan\"))\n",
    "print(\"ciphertext:\\n\", chunk(ciphertext_ctr.hex()))\n",
    "print(\"corrupted ciphertext:\\n\", chunk(ciphertext_ctr_corrupted[:27].hex()) \n",
    "    + \" \" + colorize(chunk(ciphertext_ctr_corrupted[27:28].hex()), \"red\") \n",
    "    + \" \" + chunk(ciphertext_ctr_corrupted[28:].hex(), start_id=12*2))\n",
    "print(\"deciphered plaintext from ciphertext:\\n\", colorize(chunk(plaintext_deciphered_ctr.hex()), \"blue\"))\n",
    "print(\"deciphered plaintext from corrupted ciphertext:\\n\", colorize(chunk(plaintext_deciphered_ctr_corrupted.hex()), \"yellow\"))"
   ]
  },
  {
   "cell_type": "code",
   "execution_count": null,
   "metadata": {},
   "outputs": [],
   "source": []
  }
 ],
 "metadata": {
  "interpreter": {
   "hash": "31f2aee4e71d21fbe5cf8b01ff0e069b9275f58929596ceb00d14d90e3e16cd6"
  },
  "kernelspec": {
   "display_name": "Python 3.8.5 64-bit",
   "language": "python",
   "name": "python3"
  },
  "language_info": {
   "codemirror_mode": {
    "name": "ipython",
    "version": 3
   },
   "file_extension": ".py",
   "mimetype": "text/x-python",
   "name": "python",
   "nbconvert_exporter": "python",
   "pygments_lexer": "ipython3",
   "version": "3.8.5"
  },
  "orig_nbformat": 4
 },
 "nbformat": 4,
 "nbformat_minor": 2
}
